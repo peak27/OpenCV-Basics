{
 "cells": [
  {
   "cell_type": "markdown",
   "metadata": {},
   "source": [
    "<h1>OpenCV Basics</h1>"
   ]
  },
  {
   "cell_type": "markdown",
   "metadata": {},
   "source": [
    "<h2>Some Common Image Operations</h2>"
   ]
  },
  {
   "cell_type": "markdown",
   "metadata": {},
   "source": [
    "<h4>Read, display and save image.</h4>"
   ]
  },
  {
   "cell_type": "code",
   "execution_count": 2,
   "metadata": {},
   "outputs": [],
   "source": [
    "import numpy as np\n",
    "import cv2"
   ]
  },
  {
   "cell_type": "code",
   "execution_count": 4,
   "metadata": {},
   "outputs": [
    {
     "data": {
      "text/plain": [
       "27"
      ]
     },
     "execution_count": 4,
     "metadata": {},
     "output_type": "execute_result"
    }
   ],
   "source": [
    "#Reading image and creating new window\n",
    "photo = cv2.imread(\"img/peaka.jpg\")\n",
    "cv2.namedWindow (\"Photo\", cv2.WINDOW_NORMAL)\n",
    "cv2.imshow(\"Photo\", photo)\n",
    "\n",
    "cv2.waitKey(0)\n",
    "\n",
    "#cv2.imwrite(\"output.jpg\", img) #-- Saving images"
   ]
  },
  {
   "cell_type": "markdown",
   "metadata": {},
   "source": [
    "<h4>Basic Pixel Information</h4>"
   ]
  },
  {
   "cell_type": "code",
   "execution_count": 7,
   "metadata": {},
   "outputs": [
    {
     "name": "stdout",
     "output_type": "stream",
     "text": [
      "<class 'numpy.ndarray'>\n",
      "(718, 1280, 3)\n",
      "uint8\n",
      "2757120\n"
     ]
    }
   ],
   "source": [
    "print(type(photo))  #type of array\n",
    "print(photo.shape)  #Row, Column and Channel\n",
    "print (photo.dtype) #datatype\n",
    "print(photo.size)   #Total Pixel"
   ]
  },
  {
   "cell_type": "markdown",
   "metadata": {},
   "source": [
    "<h4>Black, White and Green windows with image pixels.</h4>"
   ]
  },
  {
   "cell_type": "code",
   "execution_count": 3,
   "metadata": {},
   "outputs": [
    {
     "name": "stdout",
     "output_type": "stream",
     "text": [
      "[0]\n",
      "[1 1 1]\n",
      "[65535 65535 65535]\n",
      "[  0 255   0]\n"
     ]
    }
   ],
   "source": [
    "\n",
    "# Black window with pixel values 0\n",
    "bw = np.zeros([200,200,1], 'uint8')\n",
    "cv2.imshow('Black', bw)\n",
    "print(bw[0,0,:])\n",
    "\n",
    "# Black window with pixel values 1\n",
    "ones = np.ones([200, 200, 3], 'uint8')\n",
    "cv2.imshow(\"Ones\", ones)\n",
    "print(ones[0,0,:])\n",
    "\n",
    "#White window with max pixel value\n",
    "ww = np.ones([200, 200, 3], 'uint16')\n",
    "ww *= (2**16-1)\n",
    "cv2.imshow('White', ww)\n",
    "print(ww[0,0,:])\n",
    "\n",
    "#Green Color Window with rbg Channel\n",
    "color = ones.copy()\n",
    "color[:,:] = (0,255,0)\n",
    "cv2.imshow(\"Green\", color)\n",
    "print(color[0,0,:])\n",
    "\n",
    "cv2.waitKey(0)\n",
    "cv2.destroyAllWindows()"
   ]
  },
  {
   "cell_type": "markdown",
   "metadata": {},
   "source": [
    "<h4>Splitting colors to b,g & r.</h4>"
   ]
  },
  {
   "cell_type": "code",
   "execution_count": 3,
   "metadata": {},
   "outputs": [
    {
     "name": "stdout",
     "output_type": "stream",
     "text": [
      "(893, 1140, 3)\n"
     ]
    }
   ],
   "source": [
    "daisy = cv2.imread(\"img/daisy.jpg\", 1)\n",
    "cv2.imshow(\"Image\", daisy)\n",
    "cv2.moveWindow(\"Image\",0,0)\n",
    "print(daisy.shape)\n",
    "height,width,channels = daisy.shape\n",
    "\n",
    "b,g,r = cv2.split(daisy)\n",
    "\n",
    "rgb_split = np.empty([height,width*3,3],'uint8')\n",
    "\n",
    "rgb_split[:, 0:width] = cv2.merge([b,b,b])\n",
    "rgb_split[:, width:width*2] = cv2.merge([g,g,g])\n",
    "rgb_split[:, width*2:width*3] = cv2.merge([r,r,r])\n",
    "\n",
    "cv2.imshow(\"Channels\", rgb_split)\n",
    "cv2.moveWindow(\"Channels\", 0, height)\n",
    "\n",
    "cv2.waitKey(0)\n",
    "cv2.destroyAllWindows()"
   ]
  },
  {
   "cell_type": "markdown",
   "metadata": {},
   "source": [
    "<h4>Adding alpha layer (Transparent Image)</h4>\n"
   ]
  },
  {
   "cell_type": "code",
   "execution_count": 7,
   "metadata": {},
   "outputs": [],
   "source": [
    "#Changing image to gray\n",
    "gray = cv2.cvtColor(daisy, cv2.COLOR_RGB2GRAY)\n",
    "cv2.imshow(\"Gray\", gray)\n",
    "\n",
    "b = daisy[:,:,0]\n",
    "g = daisy[:,:,1]\n",
    "r = daisy[:,:,2]\n",
    "\n",
    "#Adding alpha layer to make image transparent\n",
    "rgba = cv2.merge((b,g,r,b))\n",
    "cv2.imwrite(\"rgba.png\", rgba)\n",
    "cv2.imshow(\"RGBA\", rgba)\n",
    "\n",
    "cv2.waitKey(0)\n",
    "cv2.destroyAllWindows()\n"
   ]
  },
  {
   "cell_type": "markdown",
   "metadata": {},
   "source": [
    "<h4>Filters: Gaussian Blur, Dilation, Erosion</h4>"
   ]
  },
  {
   "cell_type": "code",
   "execution_count": 6,
   "metadata": {},
   "outputs": [],
   "source": [
    "sil = cv2.imread(\"img/sil.jpg\",1)\n",
    "cv2.imshow(\"Orignal\", sil)\n",
    "\n",
    "#Blurring images\n",
    "blur = cv2.GaussianBlur(sil, (5,21), 0)\n",
    "cv2.imshow(\"Blur\", blur)\n",
    "\n",
    "kernel = np.ones((5,5), 'uint8')\n",
    "\n",
    "#Dilation & Erode Effects\n",
    "dilate = cv2.dilate(sil, kernel, iterations=1)\n",
    "erode = cv2.erode(sil, kernel, iterations=1)\n",
    "\n",
    "cv2.imshow(\"Dilation\", dilate)\n",
    "cv2.imshow(\"Erosion\", erode)\n",
    "\n",
    "\n",
    "cv2.waitKey(0)\n",
    "cv2.destroyAllWindows()"
   ]
  },
  {
   "cell_type": "markdown",
   "metadata": {},
   "source": [
    "<h4>Scaling & Rotating Images</h4>"
   ]
  },
  {
   "cell_type": "code",
   "execution_count": 8,
   "metadata": {},
   "outputs": [
    {
     "data": {
      "text/plain": [
       "<function destroyAllWindows>"
      ]
     },
     "execution_count": 8,
     "metadata": {},
     "output_type": "execute_result"
    }
   ],
   "source": [
    "img = cv2.imread(\"img/peaka.jpg\")\n",
    "cv2.imshow(\"Original\", img)\n",
    "\n",
    "#Scaling\n",
    "img_half = cv2.resize(img, (0,0), fx=0.5, fy=0.5)\n",
    "img_strch = cv2.resize(img, (600,600))\n",
    "img_strch_near = cv2.resize(img, (600,600), interpolation = cv2.INTER_NEAREST)\n",
    "\n",
    "cv2.imshow(\"Half Size\", img_half)\n",
    "cv2.imshow(\"Streatched Image\", img_strch)\n",
    "cv2.imshow(\"Streatched Near Image\", img_strch_near)\n",
    "\n",
    "# Rotation with metrics transformation\n",
    "R = cv2.getRotationMatrix2D((0,0), 45, 1) # Rotating 45 degrees\n",
    "rotate = cv2.warpAffine(img, R, (img.shape[1], img.shape[0]))\n",
    "cv2.imshow(\"Rotated image\", rotate)\n",
    "\n",
    "cv2.waitKey(0)\n",
    "cv2.destroyAllWindows\n"
   ]
  },
  {
   "cell_type": "markdown",
   "metadata": {},
   "source": [
    "<h4>Video Input & Custom Interface</h4>"
   ]
  },
  {
   "cell_type": "code",
   "execution_count": 3,
   "metadata": {},
   "outputs": [
    {
     "name": "stdout",
     "output_type": "stream",
     "text": [
      "Pressed 192 78\n",
      "Pressed 141 86\n",
      "Pressed 172 66\n",
      "Pressed 179 87\n",
      "Pressed 165 70\n"
     ]
    },
    {
     "data": {
      "text/plain": [
       "<function destroyAllWindows>"
      ]
     },
     "execution_count": 3,
     "metadata": {},
     "output_type": "execute_result"
    }
   ],
   "source": [
    "cap = cv2.VideoCapture(0)\n",
    "\n",
    "color = (255, 0, 0)\n",
    "line_width = 3\n",
    "radius = 70\n",
    "point = (0,0)\n",
    "\n",
    "def click(event, x, y, flags, param):\n",
    "    global point, pressed\n",
    "    if event == cv2.EVENT_LBUTTONDOWN:\n",
    "        print(\"Pressed\", x,y)\n",
    "        point = (x,y)\n",
    "        \n",
    "cv2.namedWindow(\"Frame\")\n",
    "cv2.setMouseCallback(\"Frame\", click)\n",
    "\n",
    "while(True):\n",
    "    ret,frame = cap.read()\n",
    "    frame = cv2.resize(frame, (0,0), fx = 0.5, fy = 0.5)\n",
    "    cv2.circle(frame, point, radius, color, line_width)\n",
    "    cv2.imshow(\"Frame\", frame)\n",
    "    \n",
    "    ch = cv2.waitKey(1)\n",
    "    if ch & 0xFF == ord('q'):\n",
    "        break\n",
    "        \n",
    "cap.release()\n",
    "cv2.destroyAllWindows"
   ]
  },
  {
   "cell_type": "markdown",
   "metadata": {},
   "source": [
    "<h4>Custom Interface</h4>"
   ]
  },
  {
   "cell_type": "code",
   "execution_count": null,
   "metadata": {},
   "outputs": [],
   "source": []
  }
 ],
 "metadata": {
  "kernelspec": {
   "display_name": "Python 3",
   "language": "python",
   "name": "python3"
  },
  "language_info": {
   "codemirror_mode": {
    "name": "ipython",
    "version": 3
   },
   "file_extension": ".py",
   "mimetype": "text/x-python",
   "name": "python",
   "nbconvert_exporter": "python",
   "pygments_lexer": "ipython3",
   "version": "3.7.6"
  }
 },
 "nbformat": 4,
 "nbformat_minor": 4
}
