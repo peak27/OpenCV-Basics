{
 "cells": [
  {
   "cell_type": "markdown",
   "metadata": {},
   "source": [
    "<h1>OpenCV Basics - Part 1</h1>"
   ]
  },
  {
   "cell_type": "markdown",
   "metadata": {},
   "source": [
    "<h2>Object Detection</h2>"
   ]
  },
  {
   "cell_type": "code",
   "execution_count": 1,
   "metadata": {},
   "outputs": [],
   "source": [
    "import numpy as np\n",
    "import cv2\n",
    "import random"
   ]
  },
  {
   "cell_type": "markdown",
   "metadata": {},
   "source": [
    "<h4>Simple Thresholding</h4>"
   ]
  },
  {
   "cell_type": "code",
   "execution_count": 4,
   "metadata": {},
   "outputs": [],
   "source": [
    "grey = cv2.imread(\"img/grey.jpg\") # Load Original Image\n",
    "wb = cv2.imread(\"img/grey.jpg\", 0) # Loading image as B&W\n",
    "height,width = wb.shape[0:2]\n",
    "\n",
    "cv2.imshow(\"Original\", grey)\n",
    "cv2.imshow(\"BW\", wb)\n",
    "\n",
    "binary = np.zeros([height, width, 1], 'uint8')\n",
    "threshold = 75\n",
    "\n",
    "for row in range(0,height):\n",
    "    for col in range(0,width):\n",
    "        if wb[row][col] > threshold:\n",
    "            binary[row][col] = 255\n",
    "            \n",
    "cv2.imshow(\"Slow Binary\", binary)\n",
    "\n",
    "# Alternative way of converting binary images with cv2\n",
    "# ret, thresh = cv2.threshold(wb, threshold, 255, cv2.THRESH_BINARY)\n",
    "# cv2.imshow(\"Alternative Binary\", thresh)\n",
    "\n",
    "# Adaptive Threshold\n",
    "thres_adapt = cv2.adaptiveThreshold(wb, 255, cv2.ADAPTIVE_THRESH_GAUSSIAN_C, cv2.THRESH_BINARY, 115,1)\n",
    "cv2.imshow(\"Adaptive Thresh\", thres_adapt)\n",
    "\n",
    "cv2.waitKey(0)\n",
    "cv2.destroyAllWindows()"
   ]
  },
  {
   "cell_type": "markdown",
   "metadata": {},
   "source": [
    "<h4>Skin Detection</h4>"
   ]
  },
  {
   "cell_type": "code",
   "execution_count": 3,
   "metadata": {},
   "outputs": [],
   "source": [
    "faces = cv2.imread(\"img/faces.jpg\")\n",
    "cv2.imshow(\"Original\", faces)\n",
    "\n",
    "hsv = cv2.cvtColor(faces, cv2.COLOR_BGR2HSV)\n",
    "h = hsv[:,:,0]\n",
    "s = hsv[:,:,1]\n",
    "v = hsv[:,:,2]\n",
    "\n",
    "hsv_split = np.concatenate((h,s,v), axis = 1)\n",
    "cv2.imshow(\"HSV Split\", hsv_split)\n",
    "\n",
    "ret, min_sat = cv2.threshold(s,40,255, cv2.THRESH_BINARY)\n",
    "cv2.imshow(\"Minimum Saturation\", min_sat)\n",
    "\n",
    "ret, max_hue = cv2.threshold(h, 15, 255, cv2.THRESH_BINARY_INV)\n",
    "cv2.imshow(\"Maximun Hue\", max_hue)\n",
    "\n",
    "final = cv2.bitwise_and(min_sat, max_hue)\n",
    "cv2.imshow(\"Skin Detected\", final)\n",
    "\n",
    "cv2.waitKey(0)\n",
    "cv2.destroyAllWindows()"
   ]
  },
  {
   "cell_type": "markdown",
   "metadata": {},
   "source": [
    "<h4>Contours</h4>"
   ]
  },
  {
   "cell_type": "code",
   "execution_count": 10,
   "metadata": {},
   "outputs": [],
   "source": [
    "objs = cv2.imread(\"img/objects.jpg\",1)\n",
    "grey = cv2.cvtColor(objs, cv2.COLOR_RGB2GRAY)\n",
    "thresh = cv2.adaptiveThreshold(grey, 255, cv2.ADAPTIVE_THRESH_GAUSSIAN_C, cv2.THRESH_BINARY, 115, 1)\n",
    "\n",
    "contours, hierarchy = cv2.findContours(thresh, cv2.RETR_TREE, cv2.CHAIN_APPROX_SIMPLE)\n",
    "\n",
    "obj = objs.copy()\n",
    "\n",
    "index = -1\n",
    "color = (255, 0, 255)\n",
    "thickness = 4\n",
    "\n",
    "cv2.drawContours(obj, contours, index, color, thickness)\n",
    "cv2.imshow(\"Contours\", obj)\n",
    "\n",
    "cv2.waitKey(0)\n",
    "cv2.destroyAllWindows()"
   ]
  },
  {
   "cell_type": "markdown",
   "metadata": {},
   "source": [
    "<h4>Area, Perimeter, Center & Curvature of contours</h4>"
   ]
  },
  {
   "cell_type": "code",
   "execution_count": 5,
   "metadata": {},
   "outputs": [
    {
     "name": "stdout",
     "output_type": "stream",
     "text": [
      "Area: 86.5, perimeter: 45.55634891986847\n",
      "Area: 959.5, perimeter: 251.8406196832657\n",
      "Area: 13091.5, perimeter: 754.0416301488876\n",
      "Area: 10069.5, perimeter: 401.41421353816986\n",
      "Area: 7780.0, perimeter: 329.22034430503845\n",
      "Area: 4160.0, perimeter: 258.0\n",
      "Area: 1672.0, perimeter: 160.48528122901917\n",
      "Area: 14515.0, perimeter: 1225.768675327301\n",
      "Area: 6357.0, perimeter: 446.9116872549057\n",
      "Area: 7718.0, perimeter: 484.8284270763397\n",
      "Area: 4592.5, perimeter: 502.0315263271332\n",
      "Area: 5014.0, perimeter: 357.2792183160782\n",
      "Area: 5019.0, perimeter: 444.3675308227539\n",
      "Area: 8829.0, perimeter: 450.5929263830185\n",
      "Area: 108.0, perimeter: 41.79898953437805\n",
      "Area: 551.5, perimeter: 93.41421353816986\n",
      "Area: 2707.5, perimeter: 194.75230765342712\n",
      "Area: 1644.5, perimeter: 152.1248904466629\n",
      "Area: 767.0, perimeter: 105.74011433124542\n",
      "Area: 3501.5, perimeter: 251.0710676908493\n",
      "Area: 8556.0, perimeter: 345.70562493801117\n",
      "Area: 8868.0, perimeter: 378.8284270763397\n",
      "Area: 865.0, perimeter: 185.4558435678482\n",
      "Area: 1482.0, perimeter: 244.16652035713196\n",
      "Area: 747.0, perimeter: 102.9116872549057\n",
      "Area: 1638.0, perimeter: 152.36753034591675\n",
      "Area: 1.0, perimeter: 4114.82842707634\n"
     ]
    }
   ],
   "source": [
    "img = cv2.imread('detect_blob.png',1)\n",
    "gray = cv2.cvtColor(img, cv2.COLOR_RGB2GRAY)\n",
    "thresh = cv2.adaptiveThreshold(gray, 255, cv2.ADAPTIVE_THRESH_GAUSSIAN_C, cv2.THRESH_BINARY, 115, 1)\n",
    "cv2.imshow(\"Binary\", thresh)\n",
    "\n",
    "contours, hierarchy = cv2.findContours(thresh, cv2.RETR_TREE, cv2.CHAIN_APPROX_SIMPLE)\n",
    "\n",
    "img2 = img.copy()\n",
    "index = -1\n",
    "thickness = 4\n",
    "color = (255, 0, 255)\n",
    "\n",
    "objects = np.zeros([img.shape[0], img.shape[1],3], 'uint8')\n",
    "for c in contours:\n",
    "    cv2.drawContours(objects, [c], -1, color, -1)\n",
    "\n",
    "    area = cv2.contourArea(c)\n",
    "    perimeter = cv2.arcLength(c, True)\n",
    "\n",
    "    M = cv2.moments(c)\n",
    "    cx = int( M['m10']/M['m00'])\n",
    "    cy = int( M['m01']/M['m00'])\n",
    "    cv2.circle(objects, (cx,cy), 4, (0,0,255), -1)\n",
    "\n",
    "    print(\"Area: {}, perimeter: {}\".format(area,perimeter))\n",
    "\n",
    "cv2.imshow(\"Contours\",objects)\n",
    "\n",
    "cv2.waitKey(0)\n",
    "cv2.destroyAllWindows()"
   ]
  },
  {
   "cell_type": "markdown",
   "metadata": {},
   "source": [
    "<h4>Canny Edge Detection</h4>"
   ]
  },
  {
   "cell_type": "code",
   "execution_count": 10,
   "metadata": {},
   "outputs": [],
   "source": [
    "daisy = cv2.imread(\"img/daisy.jpg\")\n",
    "cv2.imshow(\"Daisy\", daisy)\n",
    "\n",
    "hsv = cv2.cvtColor(daisy, cv2.COLOR_BGR2HSV)\n",
    "res, thresh = cv2.threshold(hsv[:,:,0], 40, 255, cv2.THRESH_BINARY_INV)\n",
    "cv2.imshow(\"Threshold\", thresh)\n",
    "\n",
    "edges = cv2.Canny(daisy, 100, 70)\n",
    "cv2.imshow(\"Canny\", edges)\n",
    "\n",
    "cv2.waitKey(0)\n",
    "cv2.destroyAllWindows()"
   ]
  },
  {
   "cell_type": "markdown",
   "metadata": {},
   "source": [
    "<h4>Fuzzy Object Detection</h4>"
   ]
  },
  {
   "cell_type": "code",
   "execution_count": 3,
   "metadata": {},
   "outputs": [
    {
     "name": "stdout",
     "output_type": "stream",
     "text": [
      "13\n",
      "10\n",
      "389816.0 2494.1421353816986\n",
      "19687.5 560.8843348026276\n",
      "20595.5 587.9726499319077\n",
      "18294.5 513.9726486206055\n",
      "19743.5 552.4579315185547\n",
      "21587.5 553.6051195859909\n",
      "17071.5 649.0853484869003\n",
      "18652.0 535.0681072473526\n",
      "20170.5 543.1442226171494\n",
      "18890.0 559.4802287817001\n"
     ]
    }
   ],
   "source": [
    "shapes = cv2.imread(\"img/fuzzy.jpg\",1)\n",
    "cv2.imshow(\"Original\", shapes)\n",
    "\n",
    "bw = cv2.cvtColor(shapes, cv2.COLOR_BGR2GRAY)\n",
    "cv2.imshow(\"B&W\", bw)\n",
    "blur = cv2.GaussianBlur(bw, (7,7), 0)\n",
    "cv2.imshow(\"Blurred\", blur)\n",
    "\n",
    "thresh = cv2.adaptiveThreshold(blur, 255, cv2.ADAPTIVE_THRESH_GAUSSIAN_C, cv2.THRESH_BINARY_INV, 205, 1)\n",
    "cv2.imshow(\"Binary\", thresh)\n",
    "\n",
    "contours, _ =  cv2.findContours(thresh, cv2.RETR_TREE, cv2.CHAIN_APPROX_SIMPLE)\n",
    "print(len(contours))\n",
    "\n",
    "filtered = []\n",
    "for c in contours:\n",
    "    if cv2.contourArea(c) < 1000:continue\n",
    "    filtered.append(c)\n",
    "    \n",
    "print(len(filtered))\n",
    "\n",
    "objects = np.zeros([shapes.shape[0], shapes.shape[1], 3],'uint8')\n",
    "for c in filtered:\n",
    "    col = (random.randint(0,255), random.randint(0, 255), random.randint(0,255))\n",
    "    cv2.drawContours(objects, [c], -1, col, -1)\n",
    "    \n",
    "    area = cv2.contourArea(c)\n",
    "    perm = cv2.arcLength(c, True)\n",
    "    print(area, perm)\n",
    "    \n",
    "cv2.imshow(\"Contours\", objects)\n",
    "\n",
    "\n",
    "cv2.waitKey(0)\n",
    "cv2.destroyAllWindows()\n"
   ]
  },
  {
   "cell_type": "code",
   "execution_count": null,
   "metadata": {},
   "outputs": [],
   "source": []
  }
 ],
 "metadata": {
  "kernelspec": {
   "display_name": "Python 3",
   "language": "python",
   "name": "python3"
  },
  "language_info": {
   "codemirror_mode": {
    "name": "ipython",
    "version": 3
   },
   "file_extension": ".py",
   "mimetype": "text/x-python",
   "name": "python",
   "nbconvert_exporter": "python",
   "pygments_lexer": "ipython3",
   "version": "3.7.6"
  }
 },
 "nbformat": 4,
 "nbformat_minor": 4
}
